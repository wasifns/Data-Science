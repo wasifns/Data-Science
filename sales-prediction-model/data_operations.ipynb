{
 "cells": [
  {
   "cell_type": "code",
   "execution_count": 1,
   "id": "fb6bb891-b71d-4f0c-964a-cae8d3b26013",
   "metadata": {},
   "outputs": [],
   "source": [
    "strSample = \"Cars\""
   ]
  },
  {
   "cell_type": "code",
   "execution_count": 2,
   "id": "24f27274-e35d-423d-9f7d-1628ef1776e0",
   "metadata": {},
   "outputs": [
    {
     "name": "stdout",
     "output_type": "stream",
     "text": [
      "\n",
      "A new release of Oh My Posh is available: v23.6.2 → v23.6.6\n",
      "To upgrade, run: 'oh-my-posh upgrade'\n",
      "\n",
      "To enable automated upgrades, set 'auto_upgrade' to 'true' in your configuration.\n",
      "\n",
      "Collecting pandoc\n",
      "  Downloading pandoc-2.4.tar.gz (34 kB)\n",
      "  Preparing metadata (setup.py) ... \u001b[?25ldone\n",
      "\u001b[?25hCollecting plumbum (from pandoc)\n",
      "  Downloading plumbum-1.8.3-py3-none-any.whl.metadata (10 kB)\n",
      "Collecting ply (from pandoc)\n",
      "  Downloading ply-3.11-py2.py3-none-any.whl.metadata (844 bytes)\n",
      "Downloading plumbum-1.8.3-py3-none-any.whl (127 kB)\n",
      "\u001b[2K   \u001b[90m━━━━━━━━━━━━━━━━━━━━━━━━━━━━━━━━━━━━━━━━\u001b[0m \u001b[32m127.6/127.6 kB\u001b[0m \u001b[31m6.0 MB/s\u001b[0m eta \u001b[36m0:00:00\u001b[0m\n",
      "\u001b[?25hDownloading ply-3.11-py2.py3-none-any.whl (49 kB)\n",
      "\u001b[2K   \u001b[90m━━━━━━━━━━━━━━━━━━━━━━━━━━━━━━━━━━━━━━━━\u001b[0m \u001b[32m49.6/49.6 kB\u001b[0m \u001b[31m5.1 MB/s\u001b[0m eta \u001b[36m0:00:00\u001b[0m\n",
      "\u001b[?25hBuilding wheels for collected packages: pandoc\n",
      "  Building wheel for pandoc (setup.py) ... \u001b[?25ldone\n",
      "\u001b[?25h  Created wheel for pandoc: filename=pandoc-2.4-py3-none-any.whl size=34794 sha256=08ae66385c39623a90b897961efaed71f7ad6908f413b7ee28d68660af842825\n",
      "  Stored in directory: /home/wiz/snap/jupyterlab-desktop/common/.cache/pip/wheels/9c/2f/9f/b1aac8c3e74b4ee327dc8c6eac5128996f9eadf586e2c0ba67\n",
      "Successfully built pandoc\n",
      "Installing collected packages: ply, plumbum, pandoc\n",
      "Successfully installed pandoc-2.4 plumbum-1.8.3 ply-3.11\n",
      "Note: you may need to restart the kernel to use updated packages.\n"
     ]
    }
   ],
   "source": [
    "pip install pandoc\n"
   ]
  },
  {
   "cell_type": "code",
   "execution_count": 3,
   "id": "ffe1b15a-8a0d-4d1c-80d5-593d59ba8513",
   "metadata": {},
   "outputs": [
    {
     "name": "stdout",
     "output_type": "stream",
     "text": [
      "[1, 2, 3, 4, 5, 6, 6]\n"
     ]
    }
   ],
   "source": [
    "listNumbers = [1, 2, 3, 4, 5, 6, 6]\n",
    "print(listNumbers)"
   ]
  },
  {
   "cell_type": "code",
   "execution_count": 4,
   "id": "718c5b9d-be60-43a7-b8b9-bf493aa261e2",
   "metadata": {},
   "outputs": [
    {
     "name": "stdout",
     "output_type": "stream",
     "text": [
      "[1, 2, 'wiz', 2]\n"
     ]
    }
   ],
   "source": [
    "lstSamples = [1, 2, 'wiz', 2]\n",
    "print(lstSamples)\n"
   ]
  },
  {
   "cell_type": "code",
   "execution_count": 5,
   "id": "b03d1cce-28f4-4653-b5f0-09de5acfff1f",
   "metadata": {},
   "outputs": [
    {
     "name": "stdout",
     "output_type": "stream",
     "text": [
      "1\n",
      "3\n",
      "4\n",
      "4\n",
      "6\n"
     ]
    }
   ],
   "source": [
    "from array import *\n",
    "arrSample = array('i', [1, 3, 4, 4, 6])\n",
    "for x in arrSample: print(x)\n",
    "                  "
   ]
  },
  {
   "cell_type": "code",
   "execution_count": 1,
   "id": "e933cdb4-47f4-4c0d-8c93-47f1f5a4cccf",
   "metadata": {},
   "outputs": [
    {
     "name": "stdout",
     "output_type": "stream",
     "text": [
      "(1, 3, 4, 'dude')\n"
     ]
    }
   ],
   "source": [
    "tupSample = (1, 3, 4, 'dude')\n",
    "print (tupSample)\n"
   ]
  },
  {
   "cell_type": "code",
   "execution_count": 2,
   "id": "1e5a5a57-1682-42cf-a89c-4831e5b7b953",
   "metadata": {},
   "outputs": [
    {
     "name": "stdout",
     "output_type": "stream",
     "text": [
      "(2, 4, 6, 'hello')\n"
     ]
    }
   ],
   "source": [
    "tupleSample = 2, 4, 6, 'hello'\n",
    "print(tupleSample)"
   ]
  },
  {
   "cell_type": "code",
   "execution_count": 5,
   "id": "65ad5194-526c-4f88-8723-5e945305f77d",
   "metadata": {},
   "outputs": [
    {
     "name": "stdout",
     "output_type": "stream",
     "text": [
      "{'first': 1, 'second': 2, 'third': 3}\n"
     ]
    }
   ],
   "source": [
    "#create dictionary usint dict keyword\n",
    "dict_list = dict([('first', 1), ('second', 2), ('third', 3)])\n",
    "print(dict_list)"
   ]
  },
  {
   "cell_type": "code",
   "execution_count": null,
   "id": "504b464d-df36-4c00-902f-9ca54c154389",
   "metadata": {},
   "outputs": [],
   "source": []
  }
 ],
 "metadata": {
  "kernelspec": {
   "display_name": "Python 3 (ipykernel)",
   "language": "python",
   "name": "python3"
  },
  "language_info": {
   "codemirror_mode": {
    "name": "ipython",
    "version": 3
   },
   "file_extension": ".py",
   "mimetype": "text/x-python",
   "name": "python",
   "nbconvert_exporter": "python",
   "pygments_lexer": "ipython3",
   "version": "3.12.3"
  }
 },
 "nbformat": 4,
 "nbformat_minor": 5
}
